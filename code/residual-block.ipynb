{
 "cells": [
  {
   "cell_type": "code",
   "execution_count": 11,
   "metadata": {},
   "outputs": [],
   "source": [
    "import torch\n",
    "import torch.nn as nn\n",
    "import torch.onnx\n",
    "\n",
    "from torchsummary import summary"
   ]
  },
  {
   "cell_type": "code",
   "execution_count": 12,
   "metadata": {},
   "outputs": [],
   "source": [
    "from deephar.layers import *"
   ]
  },
  {
   "cell_type": "code",
   "execution_count": 17,
   "metadata": {},
   "outputs": [],
   "source": [
    "class ReceptionBlock(nn.Module):\n",
    "    def __init__(self):\n",
    "        super(ReceptionBlock, self).__init__()\n",
    "        \n",
    "        self.acb = ACB(input_filters=576, output_filters=288, kernel_size=(1,1), stride=(1,1), padding=0)\n",
    "        \n",
    "        # calculating padding using\n",
    "        # padding_zeroes = (kernel_size - 1 ) / 2\n",
    "        self.sacb1 = Residual(Sep_ACB(input_filters=288, output_filters=288, kernel_size=(5,5), stride=(1,1), padding=2))\n",
    "        self.sacb2 = Residual(Sep_ACB(input_filters=288, output_filters=288, kernel_size=(5,5), stride=(1,1), padding=2))\n",
    "        self.sacb3 = Residual(Sep_ACB(input_filters=288, output_filters=288, kernel_size=(5,5), stride=(1,1), padding=2))\n",
    "        self.sacb4 = Residual(Sep_ACB(input_filters=288, output_filters=288, kernel_size=(5,5), stride=(1,1), padding=2))\n",
    "        self.sacb5 = Residual(Sep_ACB(input_filters=288, output_filters=288, kernel_size=(5,5), stride=(1,1), padding=2))\n",
    "        self.sacb6 = Residual(Sep_ACB(input_filters=576, output_filters=576, kernel_size=(5,5), stride=(1,1), padding=2))\n",
    "        self.sacb7 = Sep_ACB(input_filters=288, output_filters=576, kernel_size=(5,5), stride=(1,1), padding=2)\n",
    "        \n",
    "        self.maxpool1 = nn.MaxPool2d(kernel_size=(2,2))\n",
    "        self.maxpool2 = nn.MaxPool2d(kernel_size=(2,2))\n",
    "                \n",
    "    def forward(self, x):\n",
    "        a = self.maxpool1(x)\n",
    "        a = self.acb(a)\n",
    "        print(a.shape)\n",
    "        a = self.sacb1(a)\n",
    "        \n",
    "        b = self.maxpool2(a)\n",
    "        b = self.sacb2(b)\n",
    "        b = self.sacb3(b)\n",
    "        b = self.sacb4(b)\n",
    "        b = nn.functional.interpolate(b, scale_factor=2, mode=\"nearest\") # Maybe align_corners needs to be set?\n",
    "        \n",
    "        b = b + self.sacb5(a)\n",
    "        b = self.sacb7(b)\n",
    "        b = nn.functional.interpolate(b, scale_factor=2, mode=\"nearest\") # Maybe align_corners needs to be set?\n",
    "        \n",
    "        return b + self.sacb6(x)\n",
    "        "
   ]
  },
  {
   "cell_type": "code",
   "execution_count": 18,
   "metadata": {},
   "outputs": [
    {
     "name": "stdout",
     "output_type": "stream",
     "text": [
      "torch.Size([2, 288, 16, 16])\n",
      "----------------------------------------------------------------\n",
      "        Layer (type)               Output Shape         Param #\n",
      "================================================================\n",
      "         MaxPool2d-1          [-1, 576, 16, 16]               0\n",
      "              ReLU-2          [-1, 576, 16, 16]               0\n",
      "            Conv2d-3          [-1, 288, 16, 16]         165,888\n",
      "       BatchNorm2d-4          [-1, 288, 16, 16]             576\n",
      "              ReLU-5          [-1, 288, 16, 16]               0\n",
      "            Conv2d-6          [-1, 288, 16, 16]           2,592\n",
      "            Conv2d-7          [-1, 288, 16, 16]          82,944\n",
      "   SeparableConv2D-8          [-1, 288, 16, 16]               0\n",
      "       BatchNorm2d-9          [-1, 288, 16, 16]             576\n",
      "         Residual-10          [-1, 288, 16, 16]               0\n",
      "        MaxPool2d-11            [-1, 288, 8, 8]               0\n",
      "             ReLU-12            [-1, 288, 8, 8]               0\n",
      "           Conv2d-13            [-1, 288, 8, 8]           2,592\n",
      "           Conv2d-14            [-1, 288, 8, 8]          82,944\n",
      "  SeparableConv2D-15            [-1, 288, 8, 8]               0\n",
      "      BatchNorm2d-16            [-1, 288, 8, 8]             576\n",
      "         Residual-17            [-1, 288, 8, 8]               0\n",
      "             ReLU-18            [-1, 288, 8, 8]               0\n",
      "           Conv2d-19            [-1, 288, 8, 8]           2,592\n",
      "           Conv2d-20            [-1, 288, 8, 8]          82,944\n",
      "  SeparableConv2D-21            [-1, 288, 8, 8]               0\n",
      "      BatchNorm2d-22            [-1, 288, 8, 8]             576\n",
      "         Residual-23            [-1, 288, 8, 8]               0\n",
      "             ReLU-24            [-1, 288, 8, 8]               0\n",
      "           Conv2d-25            [-1, 288, 8, 8]           2,592\n",
      "           Conv2d-26            [-1, 288, 8, 8]          82,944\n",
      "  SeparableConv2D-27            [-1, 288, 8, 8]               0\n",
      "      BatchNorm2d-28            [-1, 288, 8, 8]             576\n",
      "         Residual-29            [-1, 288, 8, 8]               0\n",
      "             ReLU-30          [-1, 288, 16, 16]               0\n",
      "           Conv2d-31          [-1, 288, 16, 16]           2,592\n",
      "           Conv2d-32          [-1, 288, 16, 16]          82,944\n",
      "  SeparableConv2D-33          [-1, 288, 16, 16]               0\n",
      "      BatchNorm2d-34          [-1, 288, 16, 16]             576\n",
      "         Residual-35          [-1, 288, 16, 16]               0\n",
      "             ReLU-36          [-1, 288, 16, 16]               0\n",
      "           Conv2d-37          [-1, 288, 16, 16]           2,592\n",
      "           Conv2d-38          [-1, 576, 16, 16]         165,888\n",
      "  SeparableConv2D-39          [-1, 576, 16, 16]               0\n",
      "      BatchNorm2d-40          [-1, 576, 16, 16]           1,152\n",
      "             ReLU-41          [-1, 576, 32, 32]               0\n",
      "           Conv2d-42          [-1, 576, 32, 32]           5,184\n",
      "           Conv2d-43          [-1, 576, 32, 32]         331,776\n",
      "  SeparableConv2D-44          [-1, 576, 32, 32]               0\n",
      "      BatchNorm2d-45          [-1, 576, 32, 32]           1,152\n",
      "         Residual-46          [-1, 576, 32, 32]               0\n",
      "================================================================\n",
      "Total params: 1,104,768\n",
      "Trainable params: 1,104,768\n",
      "Non-trainable params: 0\n",
      "----------------------------------------------------------------\n",
      "Input size (MB): 2.25\n",
      "Forward/backward pass size (MB): 44.30\n",
      "Params size (MB): 4.21\n",
      "Estimated Total Size (MB): 50.76\n",
      "----------------------------------------------------------------\n"
     ]
    }
   ],
   "source": [
    "summary(ReceptionBlock(), input_size=(576, 32, 32))"
   ]
  },
  {
   "cell_type": "code",
   "execution_count": null,
   "metadata": {},
   "outputs": [],
   "source": []
  }
 ],
 "metadata": {
  "kernelspec": {
   "display_name": "Python 3.5 (master-thesis-35)",
   "language": "python",
   "name": "master-thesis-35"
  },
  "language_info": {
   "codemirror_mode": {
    "name": "ipython",
    "version": 3
   },
   "file_extension": ".py",
   "mimetype": "text/x-python",
   "name": "python",
   "nbconvert_exporter": "python",
   "pygments_lexer": "ipython3",
   "version": "3.5.3"
  }
 },
 "nbformat": 4,
 "nbformat_minor": 2
}
