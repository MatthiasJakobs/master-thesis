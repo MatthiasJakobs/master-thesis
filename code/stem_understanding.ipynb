{
 "cells": [
  {
   "cell_type": "code",
   "execution_count": 225,
   "metadata": {},
   "outputs": [],
   "source": [
    "import torch\n",
    "import torch.nn as nn\n",
    "import torch.onnx\n",
    "\n",
    "from torchsummary import summary"
   ]
  },
  {
   "cell_type": "markdown",
   "metadata": {},
   "source": [
    "- The authors disable bias for all convolutional layers\n",
    "- PyTorch BatchNorm has fewer parameters\n",
    "- explain depthwise separable convolution in thesis (mobilenet)\n",
    "- A little bit more parameters because of SeparableConv2D (less total but more trainable)"
   ]
  },
  {
   "cell_type": "code",
   "execution_count": 226,
   "metadata": {},
   "outputs": [],
   "source": [
    "class SeparableConv2D(nn.Module):\n",
    "    def __init__(self, input_filters, output_filters, kernel_size=3):\n",
    "        super(SeparableConv2D, self).__init__()\n",
    "        self.depthwise = nn.Conv2d(input_filters, input_filters, kernel_size=kernel_size, padding=1, groups=input_filters, bias=False)\n",
    "        self.pointwise = nn.Conv2d(input_filters, output_filters, kernel_size=1, bias=False)\n",
    "\n",
    "    def forward(self, x):\n",
    "        out = self.depthwise(x)\n",
    "        out = self.pointwise(out)\n",
    "        return out"
   ]
  },
  {
   "cell_type": "code",
   "execution_count": 227,
   "metadata": {},
   "outputs": [],
   "source": [
    "def cba(input_filters=3, output_filters=32, kernel_size=(3,3), stride=(1,1), padding=1):\n",
    "    return nn.Sequential(\n",
    "        nn.Conv2d(input_filters, output_filters, kernel_size=kernel_size, stride=stride, padding=padding, bias=False),\n",
    "        nn.BatchNorm2d(output_filters, momentum=0.99, eps=0.001),\n",
    "        nn.ReLU()\n",
    "    )\n",
    "\n",
    "def acb(input_filters=3, output_filters=32, kernel_size=(3,3), stride=(1,1), padding=1):\n",
    "    return nn.Sequential(\n",
    "        nn.ReLU(),\n",
    "        nn.Conv2d(input_filters, output_filters, kernel_size=kernel_size, stride=stride, padding=padding, bias=False),\n",
    "        nn.BatchNorm2d(output_filters, momentum=0.99, eps=0.001)\n",
    "    )\n",
    "\n",
    "def sep_acb(input_filters=3, output_filters=32, kernel_size=(3,3), stride=(1,1), padding=1):\n",
    "    return nn.Sequential(\n",
    "        nn.ReLU(),\n",
    "        SeparableConv2D(input_filters=384, output_filters=576, kernel_size=(3,3)),\n",
    "        nn.BatchNorm2d(output_filters, momentum=0.99, eps=0.001)\n",
    "    )\n",
    "\n",
    "def cb(input_filters=3, output_filters=32, kernel_size=(3,3), stride=(1,1), padding=1):\n",
    "    return nn.Sequential(\n",
    "        nn.Conv2d(input_filters, output_filters, kernel_size=kernel_size, stride=stride, padding=padding, bias=False),\n",
    "        nn.BatchNorm2d(output_filters, momentum=0.99, eps=0.001)\n",
    "    )"
   ]
  },
  {
   "cell_type": "code",
   "execution_count": 228,
   "metadata": {},
   "outputs": [],
   "source": [
    "class Stem(nn.Module):\n",
    "\n",
    "    def __init__(self):\n",
    "        super(Stem, self).__init__()\n",
    "        \n",
    "        self.cba1 = cba(input_filters=3, output_filters=32, kernel_size=(3,3), stride=(2,2))\n",
    "        self.cba2 = cba(input_filters=32, output_filters=32, kernel_size=(3,3), stride=(1,1))\n",
    "        self.cba3 = cba(input_filters=32, output_filters=64, kernel_size=(3,3), stride=(1,1))\n",
    "        self.cba4 = cba(input_filters=64, output_filters=96, kernel_size=(3,3), stride=(2,2))\n",
    "        \n",
    "        self.maxpool1 = nn.MaxPool2d(kernel_size=(3,3), stride=(2,2), padding=1)\n",
    "        \n",
    "        self.cba5 = cba(input_filters=160, output_filters=64, kernel_size=(1,1), stride=(1,1), padding=0)\n",
    "        \n",
    "        self.cb1 = cb(input_filters=64, output_filters=96, kernel_size=(3,3), stride=(1,1))\n",
    "\n",
    "        self.cba6 = cba(input_filters=160, output_filters=64, kernel_size=(1,1), stride=(1,1), padding=0)\n",
    "        self.cba7 = cba(input_filters=64, output_filters=64, kernel_size=(5,1), stride=(1,1), padding=1)\n",
    "        self.cba8 = cba(input_filters=64, output_filters=64, kernel_size=(1,5), stride=(1,1), padding=1)\n",
    "        self.cb2 = cb(input_filters=64, output_filters=96, kernel_size=(3,3), stride=(1,1))\n",
    "        \n",
    "        self.acb1 = acb(input_filters=192, output_filters=192, kernel_size=(3,3), stride=(2,2))\n",
    "        self.maxpool2 = nn.MaxPool2d(kernel_size=(2,2), stride=(2,2), padding=0)\n",
    "        \n",
    "        self.acb2 = acb(input_filters=384, output_filters=576, kernel_size=(1,1), stride=(1,1), padding=0)\n",
    "        self.sep_acb1 = sep_acb(input_filters=384, output_filters=576, kernel_size=(3,3), stride=(1,1), padding=1)\n",
    "\n",
    "        \n",
    "    def forward(self, x):\n",
    "        out = self.cba1(x)\n",
    "        out = self.cba2(out)\n",
    "        out = self.cba3(out)\n",
    "        \n",
    "        a = self.cba4(out) #96, 61, 61\n",
    "        b = self.maxpool1(out) #64,61,61\n",
    "        out = torch.cat((a,b), 1)\n",
    "        print(\"after first concat\", out.shape)\n",
    "        \n",
    "        a = self.cba5(out)        \n",
    "        a = self.cb1(a)\n",
    "        \n",
    "        b = self.cba6(out)\n",
    "        b = self.cba7(b)\n",
    "        b = self.cba8(b)\n",
    "        b = self.cb2(b)\n",
    "\n",
    "        out = torch.cat((a,b), 1)\n",
    "        print(\"after second concat\", out.shape)\n",
    "        \n",
    "        a = self.acb1(out)\n",
    "        b = self.maxpool2(out)\n",
    "\n",
    "        out = torch.cat((a,b), 1)\n",
    "        print(\"after third concat\", out.shape)\n",
    "        \n",
    "        # sep_conv_residual\n",
    "        \n",
    "        a = self.acb2(out)\n",
    "        b = self.sep_acb1(out)\n",
    "        \n",
    "        #print(\"a\", a.shape)\n",
    "        #print(\"b\", b.shape)\n",
    "        out = a + b\n",
    "\n",
    "        return out"
   ]
  },
  {
   "cell_type": "code",
   "execution_count": 229,
   "metadata": {},
   "outputs": [
    {
     "name": "stdout",
     "output_type": "stream",
     "text": [
      "after first concat torch.Size([2, 160, 64, 64])\n",
      "after second concat torch.Size([2, 192, 64, 64])\n",
      "after third concat torch.Size([2, 384, 32, 32])\n",
      "----------------------------------------------------------------\n",
      "        Layer (type)               Output Shape         Param #\n",
      "================================================================\n",
      "            Conv2d-1         [-1, 32, 128, 128]             864\n",
      "       BatchNorm2d-2         [-1, 32, 128, 128]              64\n",
      "              ReLU-3         [-1, 32, 128, 128]               0\n",
      "            Conv2d-4         [-1, 32, 128, 128]           9,216\n",
      "       BatchNorm2d-5         [-1, 32, 128, 128]              64\n",
      "              ReLU-6         [-1, 32, 128, 128]               0\n",
      "            Conv2d-7         [-1, 64, 128, 128]          18,432\n",
      "       BatchNorm2d-8         [-1, 64, 128, 128]             128\n",
      "              ReLU-9         [-1, 64, 128, 128]               0\n",
      "           Conv2d-10           [-1, 96, 64, 64]          55,296\n",
      "      BatchNorm2d-11           [-1, 96, 64, 64]             192\n",
      "             ReLU-12           [-1, 96, 64, 64]               0\n",
      "        MaxPool2d-13           [-1, 64, 64, 64]               0\n",
      "           Conv2d-14           [-1, 64, 64, 64]          10,240\n",
      "      BatchNorm2d-15           [-1, 64, 64, 64]             128\n",
      "             ReLU-16           [-1, 64, 64, 64]               0\n",
      "           Conv2d-17           [-1, 96, 64, 64]          55,296\n",
      "      BatchNorm2d-18           [-1, 96, 64, 64]             192\n",
      "           Conv2d-19           [-1, 64, 64, 64]          10,240\n",
      "      BatchNorm2d-20           [-1, 64, 64, 64]             128\n",
      "             ReLU-21           [-1, 64, 64, 64]               0\n",
      "           Conv2d-22           [-1, 64, 62, 66]          20,480\n",
      "      BatchNorm2d-23           [-1, 64, 62, 66]             128\n",
      "             ReLU-24           [-1, 64, 62, 66]               0\n",
      "           Conv2d-25           [-1, 64, 64, 64]          20,480\n",
      "      BatchNorm2d-26           [-1, 64, 64, 64]             128\n",
      "             ReLU-27           [-1, 64, 64, 64]               0\n",
      "           Conv2d-28           [-1, 96, 64, 64]          55,296\n",
      "      BatchNorm2d-29           [-1, 96, 64, 64]             192\n",
      "             ReLU-30          [-1, 192, 64, 64]               0\n",
      "           Conv2d-31          [-1, 192, 32, 32]         331,776\n",
      "      BatchNorm2d-32          [-1, 192, 32, 32]             384\n",
      "        MaxPool2d-33          [-1, 192, 32, 32]               0\n",
      "             ReLU-34          [-1, 384, 32, 32]               0\n",
      "           Conv2d-35          [-1, 576, 32, 32]         221,184\n",
      "      BatchNorm2d-36          [-1, 576, 32, 32]           1,152\n",
      "             ReLU-37          [-1, 384, 32, 32]               0\n",
      "           Conv2d-38          [-1, 384, 32, 32]           3,456\n",
      "           Conv2d-39          [-1, 576, 32, 32]         221,184\n",
      "  SeparableConv2D-40          [-1, 576, 32, 32]               0\n",
      "      BatchNorm2d-41          [-1, 576, 32, 32]           1,152\n",
      "================================================================\n",
      "Total params: 1,037,472\n",
      "Trainable params: 1,037,472\n",
      "Non-trainable params: 0\n",
      "----------------------------------------------------------------\n",
      "Input size (MB): 0.75\n",
      "Forward/backward pass size (MB): 136.99\n",
      "Params size (MB): 3.96\n",
      "Estimated Total Size (MB): 141.70\n",
      "----------------------------------------------------------------\n"
     ]
    }
   ],
   "source": [
    "summary(Stem(), input_size=(3, 256, 256))\n"
   ]
  },
  {
   "cell_type": "code",
   "execution_count": null,
   "metadata": {},
   "outputs": [],
   "source": [
    "torch.onnx.export(Stem(), (3,256,256), \"onnx_model_name.onnx\")"
   ]
  },
  {
   "cell_type": "code",
   "execution_count": 208,
   "metadata": {
    "scrolled": true
   },
   "outputs": [
    {
     "name": "stdout",
     "output_type": "stream",
     "text": [
      "----------------------------------------------------------------\n",
      "        Layer (type)               Output Shape         Param #\n",
      "================================================================\n",
      "            Conv2d-1          [-1, 384, 32, 32]           3,456\n",
      "            Conv2d-2          [-1, 576, 32, 32]         221,184\n",
      "================================================================\n",
      "Total params: 224,640\n",
      "Trainable params: 224,640\n",
      "Non-trainable params: 0\n",
      "----------------------------------------------------------------\n",
      "Input size (MB): 1.50\n",
      "Forward/backward pass size (MB): 7.50\n",
      "Params size (MB): 0.86\n",
      "Estimated Total Size (MB): 9.86\n",
      "----------------------------------------------------------------\n"
     ]
    }
   ],
   "source": [
    "summary(, input_size=(384, 32, 32))"
   ]
  },
  {
   "cell_type": "code",
   "execution_count": null,
   "metadata": {},
   "outputs": [],
   "source": []
  }
 ],
 "metadata": {
  "kernelspec": {
   "display_name": "Python 3.5 (master-thesis-35)",
   "language": "python",
   "name": "master-thesis-35"
  },
  "language_info": {
   "codemirror_mode": {
    "name": "ipython",
    "version": 3
   },
   "file_extension": ".py",
   "mimetype": "text/x-python",
   "name": "python",
   "nbconvert_exporter": "python",
   "pygments_lexer": "ipython3",
   "version": "3.5.3"
  }
 },
 "nbformat": 4,
 "nbformat_minor": 2
}
